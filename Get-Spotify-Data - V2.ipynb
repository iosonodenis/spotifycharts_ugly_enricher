{
 "cells": [
  {
   "cell_type": "markdown",
   "metadata": {
    "colab_type": "text",
    "id": "dPXUy7DaD-_H"
   },
   "source": [
    "# Get audio features and genres from Spotify - V2\n",
    "\n",
    "The idea, this time, is to find way to save the json response straight to a panda dataframe and later do all the joins"
   ]
  },
  {
   "cell_type": "markdown",
   "metadata": {
    "colab_type": "text",
    "id": "tQSABkn1a2sa"
   },
   "source": [
    "### Setup spotify"
   ]
  },
  {
   "cell_type": "code",
   "execution_count": null,
   "metadata": {
    "colab": {
     "base_uri": "https://localhost:8080/",
     "height": 238
    },
    "colab_type": "code",
    "executionInfo": {
     "elapsed": 3624,
     "status": "ok",
     "timestamp": 1536039621543,
     "user": {
      "displayName": "Denis Rasia",
      "photoUrl": "//lh4.googleusercontent.com/-oFsgx-8ac3k/AAAAAAAAAAI/AAAAAAAAwuw/B13UtdQhcNA/s50-c-k-no/photo.jpg",
      "userId": "113075510459143087543"
     },
     "user_tz": -120
    },
    "id": "RVb4155BtJdo",
    "outputId": "1f7c6c48-b71f-45d9-8f4f-1d89291063b0"
   },
   "outputs": [],
   "source": [
    "# !pip install spotipy\n",
    "# import needed libraries\n",
    "import time\n",
    "import numpy as np\n",
    "import json\n",
    "import io\n",
    "import spotipy\n",
    "import config\n",
    "import pandas as pd\n",
    "from spotipy.oauth2 import SpotifyClientCredentials\n",
    "\n",
    "# connect to spotify\n",
    "client_id = config.client_id # change with your keys\n",
    "client_secret = config.client_secret # change with your keys\n",
    "client_credential = SpotifyClientCredentials(client_id=client_id, client_secret=client_secret)\n",
    "sp = spotipy.Spotify(client_credentials_manager=client_credential)"
   ]
  },
  {
   "cell_type": "code",
   "execution_count": null,
   "metadata": {
    "colab": {},
    "colab_type": "code",
    "id": "lUZE18GOD-_M"
   },
   "outputs": [],
   "source": [
    "df = pd.read_csv(\"spotify_it_2018_november_december.csv\")"
   ]
  },
  {
   "cell_type": "code",
   "execution_count": null,
   "metadata": {},
   "outputs": [],
   "source": [
    "df.head()"
   ]
  },
  {
   "cell_type": "code",
   "execution_count": null,
   "metadata": {},
   "outputs": [],
   "source": [
    "# remove empty rows\n",
    "df.dropna(inplace=True)\n",
    "# convert string to numbers\n",
    "df.Position = pd.to_numeric(df.Position, errors='coerce')\n",
    "df.Streams = pd.to_numeric(df.Streams, errors='coerce')\n",
    "df['2018-11-01 00:00:00'] = pd.to_datetime(df['2018-11-01 00:00:00'], errors='coerce')\n",
    "# fill empty\n",
    "df.Streams = df.Streams.fillna(0)\n",
    "df.Position = df.Position.fillna(0)"
   ]
  },
  {
   "cell_type": "markdown",
   "metadata": {
    "colab_type": "text",
    "id": "9aSVgl8oD-_R"
   },
   "source": [
    "## Preparing the dataset and getting the audio features per each track\n",
    "\n",
    "About getting the audio features: https://developer.spotify.com/web-api/get-audio-features/\n",
    "\n",
    "We will look first for the unique songs and loop trought their IDs to get the audio features.\n",
    "(Hint: on 84000 rows I have 2014 unique songs... Looping for each song for each day it would have take me days)"
   ]
  },
  {
   "cell_type": "code",
   "execution_count": null,
   "metadata": {
    "colab": {
     "base_uri": "https://localhost:8080/",
     "height": 34
    },
    "colab_type": "code",
    "executionInfo": {
     "elapsed": 908,
     "status": "ok",
     "timestamp": 1536039631286,
     "user": {
      "displayName": "Denis Rasia",
      "photoUrl": "//lh4.googleusercontent.com/-oFsgx-8ac3k/AAAAAAAAAAI/AAAAAAAAwuw/B13UtdQhcNA/s50-c-k-no/photo.jpg",
      "userId": "113075510459143087543"
     },
     "user_tz": -120
    },
    "id": "oeAhI3CUD-_W",
    "outputId": "84f582cb-51bd-4657-8f29-fbea14152868"
   },
   "outputs": [],
   "source": [
    "# number of unique tracks\n",
    "df_track = df['URL'].drop_duplicates().reset_index()\n",
    "\n",
    "# create an empty dataframe to store the data\n",
    "df_track_data = pd.DataFrame()\n",
    "\n",
    "from pandas.io.json import json_normalize\n",
    "\n",
    "for i, row in df_track.iterrows():\n",
    "    audio_ft = sp.audio_features(df_track['URL'][i])\n",
    "    # song_data = sp.track(df_track['ID'][i])['artists'][0]['id'] - cant remember what\n",
    "    # turns the list badly shape as a dictionary and normalize it as dataframe, later append it\n",
    "    audio_data = json_normalize(audio_ft[0])\n",
    "    df_track_data = df_track_data.append(audio_data)\n",
    "    time.sleep(0.5)\n",
    "\n",
    "#output the first row\n",
    "df_track_data.head(1)"
   ]
  },
  {
   "cell_type": "code",
   "execution_count": null,
   "metadata": {},
   "outputs": [],
   "source": [
    "# salvataggio di backup\n",
    "df_track_data.to_csv(\"nov_dec_audio_features.csv\", index=False)"
   ]
  },
  {
   "cell_type": "markdown",
   "metadata": {
    "colab_type": "text",
    "id": "wvc6RcQeTVY8"
   },
   "source": [
    "## Merge and clean and save\n",
    "\n",
    "At this point, I should merge back the data with the original chart and save it somewhere for further analysis"
   ]
  },
  {
   "cell_type": "code",
   "execution_count": null,
   "metadata": {},
   "outputs": [],
   "source": [
    "#df_track_data.rename(columns={'id': 'ID'}, inplace=True)\n",
    "df.rename(columns={'URL':'id'}, inplace=True)"
   ]
  },
  {
   "cell_type": "code",
   "execution_count": null,
   "metadata": {
    "colab": {
     "base_uri": "https://localhost:8080/",
     "height": 394
    },
    "colab_type": "code",
    "executionInfo": {
     "elapsed": 512,
     "status": "ok",
     "timestamp": 1536039918338,
     "user": {
      "displayName": "Denis Rasia",
      "photoUrl": "//lh4.googleusercontent.com/-oFsgx-8ac3k/AAAAAAAAAAI/AAAAAAAAwuw/B13UtdQhcNA/s50-c-k-no/photo.jpg",
      "userId": "113075510459143087543"
     },
     "user_tz": -120
    },
    "id": "udtTggZUYLFX",
    "outputId": "794c063a-ae57-487c-91dd-eb29368c2299"
   },
   "outputs": [],
   "source": [
    "#join the files\n",
    "\n",
    "df_song_data = df.merge(df_track_data, how='inner', on=['id'])\n",
    "df_song_data.head(5)"
   ]
  },
  {
   "cell_type": "code",
   "execution_count": null,
   "metadata": {},
   "outputs": [],
   "source": [
    "df_song_data.to_csv(\"new-song-data.csv\", index=False)"
   ]
  },
  {
   "cell_type": "code",
   "execution_count": null,
   "metadata": {},
   "outputs": [],
   "source": [
    "df_song_data.info()"
   ]
  },
  {
   "cell_type": "code",
   "execution_count": null,
   "metadata": {},
   "outputs": [],
   "source": []
  }
 ],
 "metadata": {
  "accelerator": "GPU",
  "colab": {
   "collapsed_sections": [],
   "name": "Get-Spotify-Data.ipynb",
   "provenance": [],
   "version": "0.3.2"
  },
  "kernel_info": {
   "name": "python3"
  },
  "kernelspec": {
   "display_name": "Python 3",
   "language": "python",
   "name": "python3"
  },
  "language_info": {
   "codemirror_mode": {
    "name": "ipython",
    "version": 3
   },
   "file_extension": ".py",
   "mimetype": "text/x-python",
   "name": "python",
   "nbconvert_exporter": "python",
   "pygments_lexer": "ipython3",
   "version": "3.7.1"
  },
  "nteract": {
   "version": "0.12.3"
  }
 },
 "nbformat": 4,
 "nbformat_minor": 1
}
