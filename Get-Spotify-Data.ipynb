{
  "cells": [
    {
      "cell_type": "markdown",
      "source": [
        "# Get audio features and genres from Spotify"
      ],
      "metadata": {
        "id": "dPXUy7DaD-_H",
        "colab_type": "text"
      }
    },
    {
      "cell_type": "markdown",
      "source": [
        "### Standard Import"
      ],
      "metadata": {
        "id": "UKKew8Zfo50Y",
        "colab_type": "text"
      }
    },
    {
      "cell_type": "code",
      "source": [
        "# set up all that malarkey\n",
        "!pip install -U -q PyDrive\n",
        " \n",
        "from pydrive.auth import GoogleAuth\n",
        "from pydrive.drive import GoogleDrive\n",
        "from google.colab import auth\n",
        "from oauth2client.client import GoogleCredentials\n",
        "import pandas as pd"
      ],
      "outputs": [],
      "execution_count": 0,
      "metadata": {
        "id": "i8zEgPPjo82O",
        "colab_type": "code",
        "colab": {}
      }
    },
    {
      "cell_type": "markdown",
      "source": [
        "### Personal Functions"
      ],
      "metadata": {
        "id": "zPNTC8ojpCnv",
        "colab_type": "text"
      }
    },
    {
      "cell_type": "code",
      "source": [
        "def import_data(name='spotify_data.csv'):\n",
        "  file_downloaded = drive.CreateFile({'id': '13uzFEoT3E4TAr6zLfDsyIYn4yUmRlgkZ'}) #change the file id with new files\n",
        "  file_downloaded.GetContentFile(name)\n",
        "  df = pd.read_csv(name)\n",
        "  # remove empty rows\n",
        "  df.dropna(inplace=True)\n",
        "  # convert string to numbers\n",
        "  df.Position = pd.to_numeric(df.Position, errors='coerce')\n",
        "  df.Streams = pd.to_numeric(df.Streams, errors='coerce')\n",
        "  df.Date = pd.to_datetime(df.Date, errors='coerce')\n",
        "  # fill empty\n",
        "  df.Streams = df.Streams.fillna(0)\n",
        "  df.Position = df.Position.fillna(0)\n",
        "  # todo - c'è una riga che ha URL come track id e che sputtana tutto\n",
        "  return df"
      ],
      "outputs": [],
      "execution_count": 0,
      "metadata": {
        "id": "-XyFUzEzpBEH",
        "colab_type": "code",
        "colab": {}
      }
    },
    {
      "cell_type": "markdown",
      "source": [
        "### Load the CSV file directly from Google Drive into a Dataframe"
      ],
      "metadata": {
        "id": "TWUf9zqvpUsm",
        "colab_type": "text"
      }
    },
    {
      "cell_type": "code",
      "source": [
        "# Authenticate and create the PyDrive client.\n",
        "auth.authenticate_user()\n",
        "gauth = GoogleAuth()\n",
        "gauth.credentials = GoogleCredentials.get_application_default()\n",
        "drive = GoogleDrive(gauth)\n",
        "\ndf=import_data()"
      ],
      "outputs": [],
      "execution_count": 0,
      "metadata": {
        "id": "XZDK17SnpZL9",
        "colab_type": "code",
        "colab": {}
      }
    },
    {
      "cell_type": "markdown",
      "source": [
        "## Load the csv file directly from Google Drive into a Dataframe"
      ],
      "metadata": {
        "id": "BjcKCfGrUW70",
        "colab_type": "text"
      }
    },
    {
      "cell_type": "code",
      "source": [
        "df.head()"
      ],
      "outputs": [],
      "execution_count": null,
      "metadata": {
        "id": "5oouyHqvWVzI",
        "colab_type": "code",
        "colab": {
          "base_uri": "https://localhost:8080/",
          "height": 204
        },
        "outputId": "bbdb66ed-48cd-4f44-b30a-6f982b575028",
        "executionInfo": {
          "status": "ok",
          "timestamp": 1536039613052,
          "user_tz": -120,
          "elapsed": 639,
          "user": {
            "displayName": "Denis Rasia",
            "photoUrl": "//lh4.googleusercontent.com/-oFsgx-8ac3k/AAAAAAAAAAI/AAAAAAAAwuw/B13UtdQhcNA/s50-c-k-no/photo.jpg",
            "userId": "113075510459143087543"
          }
        }
      }
    },
    {
      "cell_type": "markdown",
      "source": [
        "### Setup spotify"
      ],
      "metadata": {
        "id": "tQSABkn1a2sa",
        "colab_type": "text"
      }
    },
    {
      "cell_type": "code",
      "source": [
        "# import non recursive spotipy\n",
        "!pip install spotipy\n",
        "\n",
        "# import needed libraries\n",
        "import time\n",
        "import numpy as np\n",
        "import json\n",
        "import io\n",
        "import spotipy\n",
        "import config.py\n",
        "from spotipy.oauth2 import SpotifyClientCredentials"
      ],
      "outputs": [],
      "execution_count": null,
      "metadata": {
        "id": "RVb4155BtJdo",
        "colab_type": "code",
        "colab": {
          "base_uri": "https://localhost:8080/",
          "height": 238
        },
        "outputId": "1f7c6c48-b71f-45d9-8f4f-1d89291063b0",
        "executionInfo": {
          "status": "ok",
          "timestamp": 1536039621543,
          "user_tz": -120,
          "elapsed": 3624,
          "user": {
            "displayName": "Denis Rasia",
            "photoUrl": "//lh4.googleusercontent.com/-oFsgx-8ac3k/AAAAAAAAAAI/AAAAAAAAwuw/B13UtdQhcNA/s50-c-k-no/photo.jpg",
            "userId": "113075510459143087543"
          }
        }
      }
    },
    {
      "cell_type": "code",
      "source": [
        "# connect to spotify\n",
        "client_id = client_id # change with your keys\n",
        "client_secret = client_secret # change with your keys\n",
        "\n",
        "client_credential = SpotifyClientCredentials(client_id=client_id, client_secret=client_secret)\n",
        "\nsp = spotipy.Spotify(client_credentials_manager=client_credential)"
      ],
      "outputs": [],
      "execution_count": 0,
      "metadata": {
        "id": "lUZE18GOD-_M",
        "colab_type": "code",
        "colab": {}
      }
    },
    {
      "cell_type": "markdown",
      "source": [
        "## Preparing the dataset and getting the audio features per each track\n",
        "\n",
        "About getting the audio features: https://developer.spotify.com/web-api/get-audio-features/\n",
        "\n",
        "We will look first for the unique songs and loop trought their IDs to get the audio features.\n",
        "(Hint: on 84000 rows I have 2014 unique songs... Looping for each song for each day it would have take me days)\n",
        "\nBecause there could be some errors, the saved items will be stored in a different dataframe and the remaiining will be assigned to the same dataframe and looped again."
      ],
      "metadata": {
        "id": "9aSVgl8oD-_R",
        "colab_type": "text"
      }
    },
    {
      "cell_type": "code",
      "source": [
        "# number of unique tracks\n",
        "df_track = df['Track_Id'].drop_duplicates().reset_index()\n",
        "df_track.shape[0]"
      ],
      "outputs": [
        {
          "output_type": "execute_result",
          "execution_count": 10,
          "data": {
            "text/plain": [
              "417"
            ]
          },
          "metadata": {
            "tags": []
          }
        }
      ],
      "execution_count": 10,
      "metadata": {
        "id": "oeAhI3CUD-_W",
        "colab_type": "code",
        "colab": {
          "base_uri": "https://localhost:8080/",
          "height": 34
        },
        "outputId": "84f582cb-51bd-4657-8f29-fbea14152868",
        "executionInfo": {
          "status": "ok",
          "timestamp": 1536039631286,
          "user_tz": -120,
          "elapsed": 908,
          "user": {
            "displayName": "Denis Rasia",
            "photoUrl": "//lh4.googleusercontent.com/-oFsgx-8ac3k/AAAAAAAAAAI/AAAAAAAAwuw/B13UtdQhcNA/s50-c-k-no/photo.jpg",
            "userId": "113075510459143087543"
          }
        }
      }
    },
    {
      "cell_type": "code",
      "source": [
        "# create new empty column to store the audio features from spotify\n",
        "new_columns = ['artist_id','track_genres','acousticness','danceability','duration_ms','energy','instrumentalness','liveness','loudness','speechiness']\n",
        "df_track = df_track.reindex(columns=[*df.columns.tolist(), *new_columns], fill_value=0.0)\n",
        "# dunno why I have those columns again\n",
        "df_track.drop(['0','Position','Track_Name','Artist','Streams','Date'],axis=1, inplace=True)\n",
        "# do a preview\n",
        "df_track.head()"
      ],
      "outputs": [],
      "execution_count": null,
      "metadata": {
        "id": "gbQHBu-9D-_n",
        "colab_type": "code",
        "colab": {
          "base_uri": "https://localhost:8080/",
          "height": 204
        },
        "outputId": "54bba6b4-1c9a-43fc-ac40-3573cf47a84a",
        "executionInfo": {
          "status": "ok",
          "timestamp": 1536039640462,
          "user_tz": -120,
          "elapsed": 534,
          "user": {
            "displayName": "Denis Rasia",
            "photoUrl": "//lh4.googleusercontent.com/-oFsgx-8ac3k/AAAAAAAAAAI/AAAAAAAAwuw/B13UtdQhcNA/s50-c-k-no/photo.jpg",
            "userId": "113075510459143087543"
          }
        }
      }
    },
    {
      "cell_type": "code",
      "source": [
        "# to test, reduce the df a few rows\n",
        "#df_track = df_track.head(1)"
      ],
      "outputs": [],
      "execution_count": 0,
      "metadata": {
        "id": "dpk7bzKentyZ",
        "colab_type": "code",
        "colab": {}
      }
    },
    {
      "cell_type": "code",
      "source": [
        "# I really need a more elegant way to do this, as this is so slow!\n",
        "\n",
        "# note: about SettingCopyWithWarning\n",
        "# https://stackoverflow.com/questions/20625582/how-to-deal-with-settingwithcopywarning-in-pandas\n",
        "pd.options.mode.chained_assignment = None #hide warning\n",
        "for i, row in df_track.iterrows():\n",
        "    audio_ft = sp.audio_features(df_track['Track_Id'][i])\n",
        "    song_data = sp.track(df_track['Track_Id'][i])['artists'][0]['id']        \n",
        "    # turns the list badly shape as a dictionary\n",
        "    audio_ft = audio_ft[0]\n",
        "    # store data into the dataframe\n",
        "    df_track['artist_id'][i] = song_data\n",
        "    df_track['acousticness'][i] = audio_ft['acousticness']\n",
        "    df_track['danceability'][i] = audio_ft['danceability']\n",
        "    df_track['duration_ms'][i] = audio_ft['duration_ms']\n",
        "    df_track['energy'][i] = audio_ft['energy']\n",
        "    df_track['instrumentalness'][i] = audio_ft['instrumentalness']\n",
        "    df_track['liveness'][i] = audio_ft['liveness']\n",
        "    df_track['loudness'][i] = audio_ft['loudness']\n",
        "    df_track['speechiness'][i] = audio_ft['speechiness']\n",
        "    df_track['track_genres'][i] = sp.artist(df_track['artist_id'][i])['genres']\n",
        "    #df_track['artist_image'][i] = sp.artist(df_track['artist_id'][i])['artist_image'] # THIS NEED TO BE TESTED\n",
        "    time.sleep(0.2) #this could take a long time"
      ],
      "outputs": [],
      "execution_count": 0,
      "metadata": {
        "id": "zB5iewWsD-_x",
        "colab_type": "code",
        "colab": {}
      }
    },
    {
      "cell_type": "code",
      "source": [
        "#some check to find instances with no data\n",
        "df_track[df_track['energy'] == 0].shape[0]"
      ],
      "outputs": [
        {
          "output_type": "execute_result",
          "execution_count": 13,
          "data": {
            "text/plain": [
              "0"
            ]
          },
          "metadata": {
            "tags": []
          }
        }
      ],
      "execution_count": 13,
      "metadata": {
        "id": "nXbEOgSsIqBL",
        "colab_type": "code",
        "colab": {
          "base_uri": "https://localhost:8080/",
          "height": 34
        },
        "outputId": "7e7fcbbb-999f-4f3b-f763-2f89b26b3142",
        "executionInfo": {
          "status": "ok",
          "timestamp": 1536039915311,
          "user_tz": -120,
          "elapsed": 840,
          "user": {
            "displayName": "Denis Rasia",
            "photoUrl": "//lh4.googleusercontent.com/-oFsgx-8ac3k/AAAAAAAAAAI/AAAAAAAAwuw/B13UtdQhcNA/s50-c-k-no/photo.jpg",
            "userId": "113075510459143087543"
          }
        }
      }
    },
    {
      "cell_type": "markdown",
      "source": [
        "## Merge and clean and save\n",
        "\nAt this point, I should merge back the data with the original chart and save it somewhere for further analysis"
      ],
      "metadata": {
        "id": "wvc6RcQeTVY8",
        "colab_type": "text"
      }
    },
    {
      "cell_type": "code",
      "source": [
        "#join the files\n",
        "\n",
        "df_song_data = df.merge(df_track, how='inner', on=['Track_Id'])\n",
        "df_song_data.head(5)"
      ],
      "outputs": [
        {
          "output_type": "execute_result",
          "execution_count": 14,
          "data": {
            "text/html": [
              "<div>\n",
              "<style scoped>\n",
              "    .dataframe tbody tr th:only-of-type {\n",
              "        vertical-align: middle;\n",
              "    }\n",
              "\n",
              "    .dataframe tbody tr th {\n",
              "        vertical-align: top;\n",
              "    }\n",
              "\n",
              "    .dataframe thead th {\n",
              "        text-align: right;\n",
              "    }\n",
              "</style>\n",
              "<table border=\"1\" class=\"dataframe\">\n",
              "  <thead>\n",
              "    <tr style=\"text-align: right;\">\n",
              "      <th></th>\n",
              "      <th>0</th>\n",
              "      <th>Position</th>\n",
              "      <th>Track_Name</th>\n",
              "      <th>Artist</th>\n",
              "      <th>Streams</th>\n",
              "      <th>Track_Id</th>\n",
              "      <th>Date</th>\n",
              "      <th>artist_id</th>\n",
              "      <th>track_genres</th>\n",
              "      <th>acousticness</th>\n",
              "      <th>danceability</th>\n",
              "      <th>duration_ms</th>\n",
              "      <th>energy</th>\n",
              "      <th>instrumentalness</th>\n",
              "      <th>liveness</th>\n",
              "      <th>loudness</th>\n",
              "      <th>speechiness</th>\n",
              "    </tr>\n",
              "  </thead>\n",
              "  <tbody>\n",
              "    <tr>\n",
              "      <th>0</th>\n",
              "      <td>2</td>\n",
              "      <td>1</td>\n",
              "      <td>Cupido (feat. Quavo)</td>\n",
              "      <td>Sfera Ebbasta</td>\n",
              "      <td>364233</td>\n",
              "      <td>0dLToDou8YHYJpQltj3Ijy</td>\n",
              "      <td>2018-02-23</td>\n",
              "      <td>23TFHmajVfBtlRx5MXqgoz</td>\n",
              "      <td>[italian hip hop]</td>\n",
              "      <td>0.0622</td>\n",
              "      <td>0.803</td>\n",
              "      <td>210107.0</td>\n",
              "      <td>0.695</td>\n",
              "      <td>0.0</td>\n",
              "      <td>0.105</td>\n",
              "      <td>-5.164</td>\n",
              "      <td>0.0413</td>\n",
              "    </tr>\n",
              "    <tr>\n",
              "      <th>1</th>\n",
              "      <td>36</td>\n",
              "      <td>35</td>\n",
              "      <td>Cupido (feat. Quavo)</td>\n",
              "      <td>Sfera Ebbasta</td>\n",
              "      <td>114034</td>\n",
              "      <td>0dLToDou8YHYJpQltj3Ijy</td>\n",
              "      <td>2018-07-24</td>\n",
              "      <td>23TFHmajVfBtlRx5MXqgoz</td>\n",
              "      <td>[italian hip hop]</td>\n",
              "      <td>0.0622</td>\n",
              "      <td>0.803</td>\n",
              "      <td>210107.0</td>\n",
              "      <td>0.695</td>\n",
              "      <td>0.0</td>\n",
              "      <td>0.105</td>\n",
              "      <td>-5.164</td>\n",
              "      <td>0.0413</td>\n",
              "    </tr>\n",
              "    <tr>\n",
              "      <th>2</th>\n",
              "      <td>42</td>\n",
              "      <td>41</td>\n",
              "      <td>Cupido (feat. Quavo)</td>\n",
              "      <td>Sfera Ebbasta</td>\n",
              "      <td>82289</td>\n",
              "      <td>0dLToDou8YHYJpQltj3Ijy</td>\n",
              "      <td>2018-08-25</td>\n",
              "      <td>23TFHmajVfBtlRx5MXqgoz</td>\n",
              "      <td>[italian hip hop]</td>\n",
              "      <td>0.0622</td>\n",
              "      <td>0.803</td>\n",
              "      <td>210107.0</td>\n",
              "      <td>0.695</td>\n",
              "      <td>0.0</td>\n",
              "      <td>0.105</td>\n",
              "      <td>-5.164</td>\n",
              "      <td>0.0413</td>\n",
              "    </tr>\n",
              "    <tr>\n",
              "      <th>3</th>\n",
              "      <td>43</td>\n",
              "      <td>42</td>\n",
              "      <td>Cupido (feat. Quavo)</td>\n",
              "      <td>Sfera Ebbasta</td>\n",
              "      <td>74777</td>\n",
              "      <td>0dLToDou8YHYJpQltj3Ijy</td>\n",
              "      <td>2018-08-26</td>\n",
              "      <td>23TFHmajVfBtlRx5MXqgoz</td>\n",
              "      <td>[italian hip hop]</td>\n",
              "      <td>0.0622</td>\n",
              "      <td>0.803</td>\n",
              "      <td>210107.0</td>\n",
              "      <td>0.695</td>\n",
              "      <td>0.0</td>\n",
              "      <td>0.105</td>\n",
              "      <td>-5.164</td>\n",
              "      <td>0.0413</td>\n",
              "    </tr>\n",
              "    <tr>\n",
              "      <th>4</th>\n",
              "      <td>44</td>\n",
              "      <td>43</td>\n",
              "      <td>Cupido (feat. Quavo)</td>\n",
              "      <td>Sfera Ebbasta</td>\n",
              "      <td>78636</td>\n",
              "      <td>0dLToDou8YHYJpQltj3Ijy</td>\n",
              "      <td>2018-08-27</td>\n",
              "      <td>23TFHmajVfBtlRx5MXqgoz</td>\n",
              "      <td>[italian hip hop]</td>\n",
              "      <td>0.0622</td>\n",
              "      <td>0.803</td>\n",
              "      <td>210107.0</td>\n",
              "      <td>0.695</td>\n",
              "      <td>0.0</td>\n",
              "      <td>0.105</td>\n",
              "      <td>-5.164</td>\n",
              "      <td>0.0413</td>\n",
              "    </tr>\n",
              "  </tbody>\n",
              "</table>\n",
              "</div>"
            ],
            "text/plain": [
              "    0  Position            Track_Name         Artist  Streams  \\\n",
              "0   2         1  Cupido (feat. Quavo)  Sfera Ebbasta   364233   \n",
              "1  36        35  Cupido (feat. Quavo)  Sfera Ebbasta   114034   \n",
              "2  42        41  Cupido (feat. Quavo)  Sfera Ebbasta    82289   \n",
              "3  43        42  Cupido (feat. Quavo)  Sfera Ebbasta    74777   \n",
              "4  44        43  Cupido (feat. Quavo)  Sfera Ebbasta    78636   \n",
              "\n",
              "                 Track_Id       Date               artist_id  \\\n",
              "0  0dLToDou8YHYJpQltj3Ijy 2018-02-23  23TFHmajVfBtlRx5MXqgoz   \n",
              "1  0dLToDou8YHYJpQltj3Ijy 2018-07-24  23TFHmajVfBtlRx5MXqgoz   \n",
              "2  0dLToDou8YHYJpQltj3Ijy 2018-08-25  23TFHmajVfBtlRx5MXqgoz   \n",
              "3  0dLToDou8YHYJpQltj3Ijy 2018-08-26  23TFHmajVfBtlRx5MXqgoz   \n",
              "4  0dLToDou8YHYJpQltj3Ijy 2018-08-27  23TFHmajVfBtlRx5MXqgoz   \n",
              "\n",
              "        track_genres  acousticness  danceability  duration_ms  energy  \\\n",
              "0  [italian hip hop]        0.0622         0.803     210107.0   0.695   \n",
              "1  [italian hip hop]        0.0622         0.803     210107.0   0.695   \n",
              "2  [italian hip hop]        0.0622         0.803     210107.0   0.695   \n",
              "3  [italian hip hop]        0.0622         0.803     210107.0   0.695   \n",
              "4  [italian hip hop]        0.0622         0.803     210107.0   0.695   \n",
              "\n",
              "   instrumentalness  liveness  loudness  speechiness  \n",
              "0               0.0     0.105    -5.164       0.0413  \n",
              "1               0.0     0.105    -5.164       0.0413  \n",
              "2               0.0     0.105    -5.164       0.0413  \n",
              "3               0.0     0.105    -5.164       0.0413  \n",
              "4               0.0     0.105    -5.164       0.0413  "
            ]
          },
          "metadata": {
            "tags": []
          }
        }
      ],
      "execution_count": 14,
      "metadata": {
        "id": "udtTggZUYLFX",
        "colab_type": "code",
        "colab": {
          "base_uri": "https://localhost:8080/",
          "height": 394
        },
        "outputId": "794c063a-ae57-487c-91dd-eb29368c2299",
        "executionInfo": {
          "status": "ok",
          "timestamp": 1536039918338,
          "user_tz": -120,
          "elapsed": 512,
          "user": {
            "displayName": "Denis Rasia",
            "photoUrl": "//lh4.googleusercontent.com/-oFsgx-8ac3k/AAAAAAAAAAI/AAAAAAAAwuw/B13UtdQhcNA/s50-c-k-no/photo.jpg",
            "userId": "113075510459143087543"
          }
        }
      }
    },
    {
      "cell_type": "code",
      "source": [
        "df_song_data.drop('0', axis=1, inplace=True)"
      ],
      "outputs": [],
      "execution_count": 0,
      "metadata": {
        "id": "6dqcyhh21Emx",
        "colab_type": "code",
        "colab": {}
      }
    },
    {
      "cell_type": "code",
      "source": [
        "# convert string to numbers\n",
        "df_song_data.Position = df_song_data.to_numeric(df.Position, errors='coerce')\n",
        "df_song_data.Streams = df_song_data.to_numeric(df.Streams, errors='coerce')\n",
        "df_song_data.Date = df_song_data.to_datetime(df.Date, errors='coerce')\n",
        "#df.drop('Track_Id', axis=1, inplace=True)\n",
        "#df.drop('artist_id', axis=1, inplace=True)\n",
        "\n",
        "# clean track genres, this is up to you if you want to clean the json format\n",
        "df_song_data['track_genres'] = df_song_data['track_genres'].str.replace(\"[\",\"\")\n",
        "df_song_data['track_genres'] = df_song_data['track_genres'].str.replace(\"]\",\"\")\n",
        "df_song_data['track_genres'] = df_song_data['track_genres'].str.replace(\"'\",\"\")\n",
        "df_song_data.info()"
      ],
      "outputs": [],
      "execution_count": null,
      "metadata": {
        "id": "4an6Y0AQ3Klm",
        "colab_type": "code",
        "colab": {
          "base_uri": "https://localhost:8080/",
          "height": 351
        },
        "outputId": "db32a48d-c003-45f8-b275-b477bb2654ff",
        "executionInfo": {
          "status": "error",
          "timestamp": 1536039943352,
          "user_tz": -120,
          "elapsed": 596,
          "user": {
            "displayName": "Denis Rasia",
            "photoUrl": "//lh4.googleusercontent.com/-oFsgx-8ac3k/AAAAAAAAAAI/AAAAAAAAwuw/B13UtdQhcNA/s50-c-k-no/photo.jpg",
            "userId": "113075510459143087543"
          }
        }
      }
    },
    {
      "cell_type": "code",
      "source": [
        "df_song_data.tail(5)"
      ],
      "outputs": [
        {
          "output_type": "execute_result",
          "execution_count": 18,
          "data": {
            "text/html": [
              "<div>\n",
              "<style scoped>\n",
              "    .dataframe tbody tr th:only-of-type {\n",
              "        vertical-align: middle;\n",
              "    }\n",
              "\n",
              "    .dataframe tbody tr th {\n",
              "        vertical-align: top;\n",
              "    }\n",
              "\n",
              "    .dataframe thead th {\n",
              "        text-align: right;\n",
              "    }\n",
              "</style>\n",
              "<table border=\"1\" class=\"dataframe\">\n",
              "  <thead>\n",
              "    <tr style=\"text-align: right;\">\n",
              "      <th></th>\n",
              "      <th>Position</th>\n",
              "      <th>Track_Name</th>\n",
              "      <th>Artist</th>\n",
              "      <th>Streams</th>\n",
              "      <th>Track_Id</th>\n",
              "      <th>Date</th>\n",
              "      <th>artist_id</th>\n",
              "      <th>track_genres</th>\n",
              "      <th>acousticness</th>\n",
              "      <th>danceability</th>\n",
              "      <th>duration_ms</th>\n",
              "      <th>energy</th>\n",
              "      <th>instrumentalness</th>\n",
              "      <th>liveness</th>\n",
              "      <th>loudness</th>\n",
              "      <th>speechiness</th>\n",
              "    </tr>\n",
              "  </thead>\n",
              "  <tbody>\n",
              "    <tr>\n",
              "      <th>1795</th>\n",
              "      <td>75</td>\n",
              "      <td>Nice Guy (with Jessie Reyez)</td>\n",
              "      <td>Eminem</td>\n",
              "      <td>59840</td>\n",
              "      <td>09FfQO3PqHO4HIJL511Ksi</td>\n",
              "      <td>2018-08-31</td>\n",
              "      <td>7dGJo4pcD2V6oG8kP0tJRR</td>\n",
              "      <td>[detroit hip hop, g funk, hip hop, rap]</td>\n",
              "      <td>0.0942</td>\n",
              "      <td>0.650</td>\n",
              "      <td>150802.0</td>\n",
              "      <td>0.639</td>\n",
              "      <td>0.0</td>\n",
              "      <td>0.1350</td>\n",
              "      <td>-5.962</td>\n",
              "      <td>0.4580</td>\n",
              "    </tr>\n",
              "    <tr>\n",
              "      <th>1796</th>\n",
              "      <td>79</td>\n",
              "      <td>Em Calls Paul - Skit</td>\n",
              "      <td>Eminem</td>\n",
              "      <td>58742</td>\n",
              "      <td>6B3zy3LOKHndqsviCr2z15</td>\n",
              "      <td>2018-08-31</td>\n",
              "      <td>7dGJo4pcD2V6oG8kP0tJRR</td>\n",
              "      <td>[detroit hip hop, g funk, hip hop, rap]</td>\n",
              "      <td>0.9770</td>\n",
              "      <td>0.707</td>\n",
              "      <td>49024.0</td>\n",
              "      <td>0.314</td>\n",
              "      <td>0.0</td>\n",
              "      <td>0.1090</td>\n",
              "      <td>-10.115</td>\n",
              "      <td>0.7470</td>\n",
              "    </tr>\n",
              "    <tr>\n",
              "      <th>1797</th>\n",
              "      <td>87</td>\n",
              "      <td>Good Guy (feat. Jessie Reyez)</td>\n",
              "      <td>Eminem</td>\n",
              "      <td>56448</td>\n",
              "      <td>4g32MdRoqwGKQd3NXIRhpU</td>\n",
              "      <td>2018-08-31</td>\n",
              "      <td>7dGJo4pcD2V6oG8kP0tJRR</td>\n",
              "      <td>[detroit hip hop, g funk, hip hop, rap]</td>\n",
              "      <td>0.2440</td>\n",
              "      <td>0.696</td>\n",
              "      <td>142192.0</td>\n",
              "      <td>0.634</td>\n",
              "      <td>0.0</td>\n",
              "      <td>0.4370</td>\n",
              "      <td>-6.918</td>\n",
              "      <td>0.2810</td>\n",
              "    </tr>\n",
              "    <tr>\n",
              "      <th>1798</th>\n",
              "      <td>156</td>\n",
              "      <td>BEBE</td>\n",
              "      <td>6ix9ine</td>\n",
              "      <td>34229</td>\n",
              "      <td>7ATATJztoWLcqDAcVVof0C</td>\n",
              "      <td>2018-08-31</td>\n",
              "      <td>7gZfnEnfiaHzxARJ2LeXrf</td>\n",
              "      <td>[emo rap]</td>\n",
              "      <td>0.1720</td>\n",
              "      <td>0.635</td>\n",
              "      <td>217822.0</td>\n",
              "      <td>0.902</td>\n",
              "      <td>0.0</td>\n",
              "      <td>0.1250</td>\n",
              "      <td>-3.559</td>\n",
              "      <td>0.1090</td>\n",
              "    </tr>\n",
              "    <tr>\n",
              "      <th>1799</th>\n",
              "      <td>183</td>\n",
              "      <td>Lucky Strike</td>\n",
              "      <td>Troye Sivan</td>\n",
              "      <td>29389</td>\n",
              "      <td>5mTJcvxRxq3uF5wUjjciDw</td>\n",
              "      <td>2018-08-31</td>\n",
              "      <td>3WGpXCj9YhhfX11TToZcXP</td>\n",
              "      <td>[dance pop, electropop, pop, post-teen pop, vi...</td>\n",
              "      <td>0.5790</td>\n",
              "      <td>0.612</td>\n",
              "      <td>208967.0</td>\n",
              "      <td>0.694</td>\n",
              "      <td>0.0</td>\n",
              "      <td>0.0914</td>\n",
              "      <td>-7.363</td>\n",
              "      <td>0.0514</td>\n",
              "    </tr>\n",
              "  </tbody>\n",
              "</table>\n",
              "</div>"
            ],
            "text/plain": [
              "      Position                     Track_Name       Artist  Streams  \\\n",
              "1795        75   Nice Guy (with Jessie Reyez)       Eminem    59840   \n",
              "1796        79           Em Calls Paul - Skit       Eminem    58742   \n",
              "1797        87  Good Guy (feat. Jessie Reyez)       Eminem    56448   \n",
              "1798       156                           BEBE      6ix9ine    34229   \n",
              "1799       183                   Lucky Strike  Troye Sivan    29389   \n",
              "\n",
              "                    Track_Id       Date               artist_id  \\\n",
              "1795  09FfQO3PqHO4HIJL511Ksi 2018-08-31  7dGJo4pcD2V6oG8kP0tJRR   \n",
              "1796  6B3zy3LOKHndqsviCr2z15 2018-08-31  7dGJo4pcD2V6oG8kP0tJRR   \n",
              "1797  4g32MdRoqwGKQd3NXIRhpU 2018-08-31  7dGJo4pcD2V6oG8kP0tJRR   \n",
              "1798  7ATATJztoWLcqDAcVVof0C 2018-08-31  7gZfnEnfiaHzxARJ2LeXrf   \n",
              "1799  5mTJcvxRxq3uF5wUjjciDw 2018-08-31  3WGpXCj9YhhfX11TToZcXP   \n",
              "\n",
              "                                           track_genres  acousticness  \\\n",
              "1795            [detroit hip hop, g funk, hip hop, rap]        0.0942   \n",
              "1796            [detroit hip hop, g funk, hip hop, rap]        0.9770   \n",
              "1797            [detroit hip hop, g funk, hip hop, rap]        0.2440   \n",
              "1798                                          [emo rap]        0.1720   \n",
              "1799  [dance pop, electropop, pop, post-teen pop, vi...        0.5790   \n",
              "\n",
              "      danceability  duration_ms  energy  instrumentalness  liveness  loudness  \\\n",
              "1795         0.650     150802.0   0.639               0.0    0.1350    -5.962   \n",
              "1796         0.707      49024.0   0.314               0.0    0.1090   -10.115   \n",
              "1797         0.696     142192.0   0.634               0.0    0.4370    -6.918   \n",
              "1798         0.635     217822.0   0.902               0.0    0.1250    -3.559   \n",
              "1799         0.612     208967.0   0.694               0.0    0.0914    -7.363   \n",
              "\n",
              "      speechiness  \n",
              "1795       0.4580  \n",
              "1796       0.7470  \n",
              "1797       0.2810  \n",
              "1798       0.1090  \n",
              "1799       0.0514  "
            ]
          },
          "metadata": {
            "tags": []
          }
        }
      ],
      "execution_count": 18,
      "metadata": {
        "id": "cdnvnAS41r8u",
        "colab_type": "code",
        "colab": {
          "base_uri": "https://localhost:8080/",
          "height": 394
        },
        "outputId": "cd9c1ba9-f386-4f98-abc0-eaf4e7fd63d4",
        "executionInfo": {
          "status": "ok",
          "timestamp": 1536039982858,
          "user_tz": -120,
          "elapsed": 526,
          "user": {
            "displayName": "Denis Rasia",
            "photoUrl": "//lh4.googleusercontent.com/-oFsgx-8ac3k/AAAAAAAAAAI/AAAAAAAAwuw/B13UtdQhcNA/s50-c-k-no/photo.jpg",
            "userId": "113075510459143087543"
          }
        }
      }
    },
    {
      "cell_type": "code",
      "source": [
        "#prompt download\n",
        "#to-do: save directly to drive and return file id\n",
        "df_song_data.to_csv(\"spotify_full_data.csv\", index=False)"
      ],
      "outputs": [],
      "execution_count": 0,
      "metadata": {
        "id": "jHVIIFewYl6x",
        "colab_type": "code",
        "colab": {}
      }
    },
    {
      "cell_type": "code",
      "source": [
        "from google.colab import files\n",
        "files.download('spotify_full_data.csv')"
      ],
      "outputs": [],
      "execution_count": 0,
      "metadata": {
        "id": "-ABTAs-_pfY8",
        "colab_type": "code",
        "colab": {}
      }
    }
  ],
  "metadata": {
    "colab": {
      "name": "Get-Spotify-Data.ipynb",
      "version": "0.3.2",
      "provenance": [],
      "collapsed_sections": []
    },
    "kernelspec": {
      "name": "python3",
      "language": "python",
      "display_name": "Python 3"
    },
    "accelerator": "GPU",
    "kernel_info": {
      "name": "python3"
    },
    "language_info": {
      "name": "python",
      "version": "3.6.4",
      "mimetype": "text/x-python",
      "codemirror_mode": {
        "name": "ipython",
        "version": 3
      },
      "pygments_lexer": "ipython3",
      "nbconvert_exporter": "python",
      "file_extension": ".py"
    },
    "nteract": {
      "version": "0.11.9"
    }
  },
  "nbformat": 4,
  "nbformat_minor": 0
}